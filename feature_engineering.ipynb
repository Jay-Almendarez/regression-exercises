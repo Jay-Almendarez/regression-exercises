{
 "cells": [
  {
   "cell_type": "code",
   "execution_count": 73,
   "id": "f40a7146-6627-4c9a-937c-f7fe7b0a68f9",
   "metadata": {
    "tags": []
   },
   "outputs": [],
   "source": [
    "from pydataset import data\n",
    "from sklearn.feature_selection import SelectKBest, f_regression, RFE\n",
    "from sklearn.model_selection import train_test_split\n",
    "from sklearn.linear_model import LinearRegression\n",
    "import sklearn.preprocessing\n",
    "import matplotlib.pyplot as plt"
   ]
  },
  {
   "cell_type": "markdown",
   "id": "15b07c2d-36e8-412c-993c-28718a154df6",
   "metadata": {},
   "source": [
    "# Exercises"
   ]
  },
  {
   "cell_type": "markdown",
   "id": "e0779cdd-840f-4742-8c04-b3b6a876a782",
   "metadata": {},
   "source": [
    "## Load the tips dataset."
   ]
  },
  {
   "cell_type": "code",
   "execution_count": 19,
   "id": "10e585a3-cdfd-4f9f-9f8a-c821e29fca3c",
   "metadata": {
    "tags": []
   },
   "outputs": [
    {
     "data": {
      "text/html": [
       "<div>\n",
       "<style scoped>\n",
       "    .dataframe tbody tr th:only-of-type {\n",
       "        vertical-align: middle;\n",
       "    }\n",
       "\n",
       "    .dataframe tbody tr th {\n",
       "        vertical-align: top;\n",
       "    }\n",
       "\n",
       "    .dataframe thead th {\n",
       "        text-align: right;\n",
       "    }\n",
       "</style>\n",
       "<table border=\"1\" class=\"dataframe\">\n",
       "  <thead>\n",
       "    <tr style=\"text-align: right;\">\n",
       "      <th></th>\n",
       "      <th>total_bill</th>\n",
       "      <th>tip</th>\n",
       "      <th>sex</th>\n",
       "      <th>smoker</th>\n",
       "      <th>day</th>\n",
       "      <th>time</th>\n",
       "      <th>size</th>\n",
       "    </tr>\n",
       "  </thead>\n",
       "  <tbody>\n",
       "    <tr>\n",
       "      <th>1</th>\n",
       "      <td>16.99</td>\n",
       "      <td>1.01</td>\n",
       "      <td>Female</td>\n",
       "      <td>No</td>\n",
       "      <td>Sun</td>\n",
       "      <td>Dinner</td>\n",
       "      <td>2</td>\n",
       "    </tr>\n",
       "    <tr>\n",
       "      <th>2</th>\n",
       "      <td>10.34</td>\n",
       "      <td>1.66</td>\n",
       "      <td>Male</td>\n",
       "      <td>No</td>\n",
       "      <td>Sun</td>\n",
       "      <td>Dinner</td>\n",
       "      <td>3</td>\n",
       "    </tr>\n",
       "    <tr>\n",
       "      <th>3</th>\n",
       "      <td>21.01</td>\n",
       "      <td>3.50</td>\n",
       "      <td>Male</td>\n",
       "      <td>No</td>\n",
       "      <td>Sun</td>\n",
       "      <td>Dinner</td>\n",
       "      <td>3</td>\n",
       "    </tr>\n",
       "    <tr>\n",
       "      <th>4</th>\n",
       "      <td>23.68</td>\n",
       "      <td>3.31</td>\n",
       "      <td>Male</td>\n",
       "      <td>No</td>\n",
       "      <td>Sun</td>\n",
       "      <td>Dinner</td>\n",
       "      <td>2</td>\n",
       "    </tr>\n",
       "    <tr>\n",
       "      <th>5</th>\n",
       "      <td>24.59</td>\n",
       "      <td>3.61</td>\n",
       "      <td>Female</td>\n",
       "      <td>No</td>\n",
       "      <td>Sun</td>\n",
       "      <td>Dinner</td>\n",
       "      <td>4</td>\n",
       "    </tr>\n",
       "  </tbody>\n",
       "</table>\n",
       "</div>"
      ],
      "text/plain": [
       "   total_bill   tip     sex smoker  day    time  size\n",
       "1       16.99  1.01  Female     No  Sun  Dinner     2\n",
       "2       10.34  1.66    Male     No  Sun  Dinner     3\n",
       "3       21.01  3.50    Male     No  Sun  Dinner     3\n",
       "4       23.68  3.31    Male     No  Sun  Dinner     2\n",
       "5       24.59  3.61  Female     No  Sun  Dinner     4"
      ]
     },
     "execution_count": 19,
     "metadata": {},
     "output_type": "execute_result"
    }
   ],
   "source": [
    "tips = data('tips')\n",
    "tips.head()"
   ]
  },
  {
   "cell_type": "markdown",
   "id": "7aec37b4-cd52-4e36-94f4-da6e7b5deda5",
   "metadata": {},
   "source": [
    "### Create a column named price_per_person. This should be the total bill divided by the party size."
   ]
  },
  {
   "cell_type": "code",
   "execution_count": 20,
   "id": "c2a343a1-2411-4856-a08b-186264781db8",
   "metadata": {
    "tags": []
   },
   "outputs": [
    {
     "data": {
      "text/html": [
       "<div>\n",
       "<style scoped>\n",
       "    .dataframe tbody tr th:only-of-type {\n",
       "        vertical-align: middle;\n",
       "    }\n",
       "\n",
       "    .dataframe tbody tr th {\n",
       "        vertical-align: top;\n",
       "    }\n",
       "\n",
       "    .dataframe thead th {\n",
       "        text-align: right;\n",
       "    }\n",
       "</style>\n",
       "<table border=\"1\" class=\"dataframe\">\n",
       "  <thead>\n",
       "    <tr style=\"text-align: right;\">\n",
       "      <th></th>\n",
       "      <th>total_bill</th>\n",
       "      <th>tip</th>\n",
       "      <th>sex</th>\n",
       "      <th>smoker</th>\n",
       "      <th>day</th>\n",
       "      <th>time</th>\n",
       "      <th>size</th>\n",
       "      <th>price_per_person</th>\n",
       "    </tr>\n",
       "  </thead>\n",
       "  <tbody>\n",
       "    <tr>\n",
       "      <th>1</th>\n",
       "      <td>16.99</td>\n",
       "      <td>1.01</td>\n",
       "      <td>Female</td>\n",
       "      <td>No</td>\n",
       "      <td>Sun</td>\n",
       "      <td>Dinner</td>\n",
       "      <td>2</td>\n",
       "      <td>8.49</td>\n",
       "    </tr>\n",
       "    <tr>\n",
       "      <th>2</th>\n",
       "      <td>10.34</td>\n",
       "      <td>1.66</td>\n",
       "      <td>Male</td>\n",
       "      <td>No</td>\n",
       "      <td>Sun</td>\n",
       "      <td>Dinner</td>\n",
       "      <td>3</td>\n",
       "      <td>3.45</td>\n",
       "    </tr>\n",
       "    <tr>\n",
       "      <th>3</th>\n",
       "      <td>21.01</td>\n",
       "      <td>3.50</td>\n",
       "      <td>Male</td>\n",
       "      <td>No</td>\n",
       "      <td>Sun</td>\n",
       "      <td>Dinner</td>\n",
       "      <td>3</td>\n",
       "      <td>7.00</td>\n",
       "    </tr>\n",
       "    <tr>\n",
       "      <th>4</th>\n",
       "      <td>23.68</td>\n",
       "      <td>3.31</td>\n",
       "      <td>Male</td>\n",
       "      <td>No</td>\n",
       "      <td>Sun</td>\n",
       "      <td>Dinner</td>\n",
       "      <td>2</td>\n",
       "      <td>11.84</td>\n",
       "    </tr>\n",
       "    <tr>\n",
       "      <th>5</th>\n",
       "      <td>24.59</td>\n",
       "      <td>3.61</td>\n",
       "      <td>Female</td>\n",
       "      <td>No</td>\n",
       "      <td>Sun</td>\n",
       "      <td>Dinner</td>\n",
       "      <td>4</td>\n",
       "      <td>6.15</td>\n",
       "    </tr>\n",
       "  </tbody>\n",
       "</table>\n",
       "</div>"
      ],
      "text/plain": [
       "   total_bill   tip     sex smoker  day    time  size  price_per_person\n",
       "1       16.99  1.01  Female     No  Sun  Dinner     2              8.49\n",
       "2       10.34  1.66    Male     No  Sun  Dinner     3              3.45\n",
       "3       21.01  3.50    Male     No  Sun  Dinner     3              7.00\n",
       "4       23.68  3.31    Male     No  Sun  Dinner     2             11.84\n",
       "5       24.59  3.61  Female     No  Sun  Dinner     4              6.15"
      ]
     },
     "execution_count": 20,
     "metadata": {},
     "output_type": "execute_result"
    }
   ],
   "source": [
    "tips['price_per_person'] = round(tips['total_bill']/tips['size'],2)\n",
    "tips.head()"
   ]
  },
  {
   "cell_type": "code",
   "execution_count": 21,
   "id": "1334651c-33be-49c4-9c45-cb651aea3a63",
   "metadata": {
    "tags": []
   },
   "outputs": [
    {
     "data": {
      "text/plain": [
       "total_bill          float64\n",
       "tip                 float64\n",
       "sex                  object\n",
       "smoker               object\n",
       "day                  object\n",
       "time                 object\n",
       "size                  int64\n",
       "price_per_person    float64\n",
       "dtype: object"
      ]
     },
     "execution_count": 21,
     "metadata": {},
     "output_type": "execute_result"
    }
   ],
   "source": [
    "tips.dtypes"
   ]
  },
  {
   "cell_type": "code",
   "execution_count": 34,
   "id": "c829c308-106d-469b-9a4a-406535cd4438",
   "metadata": {
    "tags": []
   },
   "outputs": [],
   "source": [
    "# encoding objects to integers\n",
    "tips['sex'] = tips['sex'].map({'Female': 0, 'Male': 1})\n",
    "tips['smoker'] = tips['smoker'].map({'No': 0, 'Yes': 1})\n",
    "tips['time'] = tips['time'].map({'Lunch': 0, 'Dinner': 1})\n",
    "tips['day'] = tips['day'].map({'Thur': 0, 'Fri': 1, 'Sat': 2, 'Sun': 3})"
   ]
  },
  {
   "cell_type": "code",
   "execution_count": 35,
   "id": "7315b4f4-7dbb-48a2-bb2d-4034b1f468cb",
   "metadata": {
    "tags": []
   },
   "outputs": [
    {
     "data": {
      "text/html": [
       "<div>\n",
       "<style scoped>\n",
       "    .dataframe tbody tr th:only-of-type {\n",
       "        vertical-align: middle;\n",
       "    }\n",
       "\n",
       "    .dataframe tbody tr th {\n",
       "        vertical-align: top;\n",
       "    }\n",
       "\n",
       "    .dataframe thead th {\n",
       "        text-align: right;\n",
       "    }\n",
       "</style>\n",
       "<table border=\"1\" class=\"dataframe\">\n",
       "  <thead>\n",
       "    <tr style=\"text-align: right;\">\n",
       "      <th></th>\n",
       "      <th>total_bill</th>\n",
       "      <th>tip</th>\n",
       "      <th>sex</th>\n",
       "      <th>smoker</th>\n",
       "      <th>day</th>\n",
       "      <th>time</th>\n",
       "      <th>size</th>\n",
       "      <th>price_per_person</th>\n",
       "    </tr>\n",
       "  </thead>\n",
       "  <tbody>\n",
       "    <tr>\n",
       "      <th>1</th>\n",
       "      <td>16.99</td>\n",
       "      <td>1.01</td>\n",
       "      <td>0</td>\n",
       "      <td>0</td>\n",
       "      <td>3</td>\n",
       "      <td>1</td>\n",
       "      <td>2</td>\n",
       "      <td>8.49</td>\n",
       "    </tr>\n",
       "    <tr>\n",
       "      <th>2</th>\n",
       "      <td>10.34</td>\n",
       "      <td>1.66</td>\n",
       "      <td>1</td>\n",
       "      <td>0</td>\n",
       "      <td>3</td>\n",
       "      <td>1</td>\n",
       "      <td>3</td>\n",
       "      <td>3.45</td>\n",
       "    </tr>\n",
       "    <tr>\n",
       "      <th>3</th>\n",
       "      <td>21.01</td>\n",
       "      <td>3.50</td>\n",
       "      <td>1</td>\n",
       "      <td>0</td>\n",
       "      <td>3</td>\n",
       "      <td>1</td>\n",
       "      <td>3</td>\n",
       "      <td>7.00</td>\n",
       "    </tr>\n",
       "    <tr>\n",
       "      <th>4</th>\n",
       "      <td>23.68</td>\n",
       "      <td>3.31</td>\n",
       "      <td>1</td>\n",
       "      <td>0</td>\n",
       "      <td>3</td>\n",
       "      <td>1</td>\n",
       "      <td>2</td>\n",
       "      <td>11.84</td>\n",
       "    </tr>\n",
       "    <tr>\n",
       "      <th>5</th>\n",
       "      <td>24.59</td>\n",
       "      <td>3.61</td>\n",
       "      <td>0</td>\n",
       "      <td>0</td>\n",
       "      <td>3</td>\n",
       "      <td>1</td>\n",
       "      <td>4</td>\n",
       "      <td>6.15</td>\n",
       "    </tr>\n",
       "    <tr>\n",
       "      <th>...</th>\n",
       "      <td>...</td>\n",
       "      <td>...</td>\n",
       "      <td>...</td>\n",
       "      <td>...</td>\n",
       "      <td>...</td>\n",
       "      <td>...</td>\n",
       "      <td>...</td>\n",
       "      <td>...</td>\n",
       "    </tr>\n",
       "    <tr>\n",
       "      <th>240</th>\n",
       "      <td>29.03</td>\n",
       "      <td>5.92</td>\n",
       "      <td>1</td>\n",
       "      <td>0</td>\n",
       "      <td>2</td>\n",
       "      <td>1</td>\n",
       "      <td>3</td>\n",
       "      <td>9.68</td>\n",
       "    </tr>\n",
       "    <tr>\n",
       "      <th>241</th>\n",
       "      <td>27.18</td>\n",
       "      <td>2.00</td>\n",
       "      <td>0</td>\n",
       "      <td>1</td>\n",
       "      <td>2</td>\n",
       "      <td>1</td>\n",
       "      <td>2</td>\n",
       "      <td>13.59</td>\n",
       "    </tr>\n",
       "    <tr>\n",
       "      <th>242</th>\n",
       "      <td>22.67</td>\n",
       "      <td>2.00</td>\n",
       "      <td>1</td>\n",
       "      <td>1</td>\n",
       "      <td>2</td>\n",
       "      <td>1</td>\n",
       "      <td>2</td>\n",
       "      <td>11.34</td>\n",
       "    </tr>\n",
       "    <tr>\n",
       "      <th>243</th>\n",
       "      <td>17.82</td>\n",
       "      <td>1.75</td>\n",
       "      <td>1</td>\n",
       "      <td>0</td>\n",
       "      <td>2</td>\n",
       "      <td>1</td>\n",
       "      <td>2</td>\n",
       "      <td>8.91</td>\n",
       "    </tr>\n",
       "    <tr>\n",
       "      <th>244</th>\n",
       "      <td>18.78</td>\n",
       "      <td>3.00</td>\n",
       "      <td>0</td>\n",
       "      <td>0</td>\n",
       "      <td>0</td>\n",
       "      <td>1</td>\n",
       "      <td>2</td>\n",
       "      <td>9.39</td>\n",
       "    </tr>\n",
       "  </tbody>\n",
       "</table>\n",
       "<p>244 rows × 8 columns</p>\n",
       "</div>"
      ],
      "text/plain": [
       "     total_bill   tip  sex  smoker  day  time  size  price_per_person\n",
       "1         16.99  1.01    0       0    3     1     2              8.49\n",
       "2         10.34  1.66    1       0    3     1     3              3.45\n",
       "3         21.01  3.50    1       0    3     1     3              7.00\n",
       "4         23.68  3.31    1       0    3     1     2             11.84\n",
       "5         24.59  3.61    0       0    3     1     4              6.15\n",
       "..          ...   ...  ...     ...  ...   ...   ...               ...\n",
       "240       29.03  5.92    1       0    2     1     3              9.68\n",
       "241       27.18  2.00    0       1    2     1     2             13.59\n",
       "242       22.67  2.00    1       1    2     1     2             11.34\n",
       "243       17.82  1.75    1       0    2     1     2              8.91\n",
       "244       18.78  3.00    0       0    0     1     2              9.39\n",
       "\n",
       "[244 rows x 8 columns]"
      ]
     },
     "execution_count": 35,
     "metadata": {},
     "output_type": "execute_result"
    }
   ],
   "source": [
    "tips"
   ]
  },
  {
   "cell_type": "code",
   "execution_count": 38,
   "id": "794bd888-4d1f-4f36-befb-c64afba61fa3",
   "metadata": {
    "tags": []
   },
   "outputs": [],
   "source": [
    "train_and_validate, test = train_test_split(tips, random_state=117)\n",
    "train, validate = train_test_split(train_and_validate)\n",
    "x_train = train.drop(columns='tip')\n",
    "y_train = train['tip']\n",
    "x_validate = validate.drop(columns='tip')\n",
    "y_validate = validate['tip']\n",
    "x_test = test.drop(columns='tip')\n",
    "y_test = test['tip']"
   ]
  },
  {
   "cell_type": "markdown",
   "id": "ba7141c7-1b96-44e3-872f-0e4429330edd",
   "metadata": {},
   "source": [
    "### Before using any of the methods discussed in the lesson, which features do you think would be most important for predicting the tip amount?"
   ]
  },
  {
   "cell_type": "markdown",
   "id": "8c6dd8b2-10f6-4e4d-aa11-5f4ab79018b4",
   "metadata": {},
   "source": [
    "#### Initial thoughts are that total bill and time of day are the strongest features."
   ]
  },
  {
   "cell_type": "markdown",
   "id": "676ab149-a814-4dad-9dbe-4dbfd34636fd",
   "metadata": {},
   "source": [
    "### Use Select K Best to select the top 2 features for predicting tip amount. What are they?"
   ]
  },
  {
   "cell_type": "code",
   "execution_count": 40,
   "id": "c7fde059-c563-4d59-b0d3-94244dfb3465",
   "metadata": {
    "tags": []
   },
   "outputs": [
    {
     "data": {
      "text/plain": [
       "['total_bill', 'size']"
      ]
     },
     "execution_count": 40,
     "metadata": {},
     "output_type": "execute_result"
    }
   ],
   "source": [
    "f_selector = SelectKBest(f_regression, k=2)\n",
    "f_selector.fit(x_train, y_train)\n",
    "feature_mask = f_selector.get_support()\n",
    "f_feature = x_train.iloc[:,feature_mask].columns.tolist()\n",
    "f_feature"
   ]
  },
  {
   "cell_type": "markdown",
   "id": "bbc85235-5147-4031-88a8-6f74f733f431",
   "metadata": {},
   "source": [
    "#### Total Bill and Size are the top 2 predictive features"
   ]
  },
  {
   "cell_type": "markdown",
   "id": "46ab6f72-7bae-4c1c-a4ed-2afdf8cd56ec",
   "metadata": {},
   "source": [
    "### Use Recursive Feature Elimination to select the top 2 features for tip amount. What are they?"
   ]
  },
  {
   "cell_type": "code",
   "execution_count": 44,
   "id": "d8ebc44e-8772-444f-8ebb-255eac59e5f6",
   "metadata": {
    "tags": []
   },
   "outputs": [
    {
     "data": {
      "text/plain": [
       "['smoker', 'size']"
      ]
     },
     "execution_count": 44,
     "metadata": {},
     "output_type": "execute_result"
    }
   ],
   "source": [
    "lr = LinearRegression()\n",
    "rfe = RFE(lr, n_features_to_select=2)\n",
    "rfe.fit(x_train, y_train)\n",
    "feature_mask = rfe.support_\n",
    "rfe_feature = x_train.iloc[:,feature_mask].columns.tolist()\n",
    "rfe_feature"
   ]
  },
  {
   "cell_type": "markdown",
   "id": "22954721-74ba-4d9b-9208-05b7c0743315",
   "metadata": {},
   "source": [
    "#### Smoker and size are the top 2 features for RFE."
   ]
  },
  {
   "cell_type": "markdown",
   "id": "0f16f9f5-030c-49e1-b00f-60d1841b3474",
   "metadata": {},
   "source": [
    "### Why do you think Select K Best and Recursive Feature Elimination might give different answers for the top features? Does this change as you change the number of features you are selecting?"
   ]
  },
  {
   "cell_type": "code",
   "execution_count": 48,
   "id": "0df6bf1c-22ad-4e32-acf5-d8dbf9deaf7c",
   "metadata": {
    "tags": []
   },
   "outputs": [
    {
     "data": {
      "text/plain": [
       "['total_bill', 'sex', 'day', 'size', 'price_per_person']"
      ]
     },
     "execution_count": 48,
     "metadata": {},
     "output_type": "execute_result"
    }
   ],
   "source": [
    "f_selector = SelectKBest(f_regression, k=5)\n",
    "f_selector.fit(x_train, y_train)\n",
    "feature_mask = f_selector.get_support()\n",
    "f_feature = x_train.iloc[:,feature_mask].columns.tolist()\n",
    "f_feature"
   ]
  },
  {
   "cell_type": "code",
   "execution_count": 47,
   "id": "ba57c88e-77da-4cc1-a2c2-31f241cdaa99",
   "metadata": {
    "tags": []
   },
   "outputs": [
    {
     "data": {
      "text/plain": [
       "['total_bill', 'smoker', 'day', 'time', 'size']"
      ]
     },
     "execution_count": 47,
     "metadata": {},
     "output_type": "execute_result"
    }
   ],
   "source": [
    "lr = LinearRegression()\n",
    "rfe = RFE(lr, n_features_to_select=5)\n",
    "rfe.fit(x_train, y_train)\n",
    "feature_mask = rfe.support_\n",
    "rfe_feature = x_train.iloc[:,feature_mask].columns.tolist()\n",
    "rfe_feature"
   ]
  },
  {
   "cell_type": "markdown",
   "id": "e2ca0c02-7d3b-4747-956a-de0332c14659",
   "metadata": {},
   "source": [
    "#### Even after changing the amount of features to 5, we are still getting differenct results. This is likely due to the fact that Select K best will remove features if they are highly correlated to one another, potentially removing key features that RFE wouldn't."
   ]
  },
  {
   "cell_type": "markdown",
   "id": "7b2a16f5-f267-43b4-b30a-3311bddc65d0",
   "metadata": {},
   "source": [
    "## Write a function named select_kbest that takes in the predictors (X), the target (y), and the number of features to select (k) and returns the names of the top k selected features based on the SelectKBest class. Test your function with the tips dataset. You should see the same results as when you did the process manually."
   ]
  },
  {
   "cell_type": "code",
   "execution_count": 66,
   "id": "e0f46cf6-c8df-42a5-a57c-99a8b4874ca6",
   "metadata": {
    "tags": []
   },
   "outputs": [],
   "source": [
    "def select_kbest(X, y, k):\n",
    "    '''\n",
    "    select_kbest will take three arguments: X(our split dataframe. Example: x_train), y(our target from the split data. Example: y_train), and k(the amount of features we want identified)\n",
    "    and will return the k best features using SelectKBest.\n",
    "    '''\n",
    "    f_selector = SelectKBest(f_regression, k=k)\n",
    "    f_selector.fit(X, y)\n",
    "    feature_mask = f_selector.get_support()\n",
    "    f_feature = X.iloc[:,feature_mask].columns.tolist()\n",
    "    return f_feature"
   ]
  },
  {
   "cell_type": "code",
   "execution_count": 51,
   "id": "bb86939c-e90f-4274-bf1b-0e05ed0389bc",
   "metadata": {
    "tags": []
   },
   "outputs": [],
   "source": [
    "new_tips = data('tips')\n",
    "new_tips['price_per_person'] = round(new_tips['total_bill']/new_tips['size'],2)\n",
    "\n",
    "new_tips['sex'] = new_tips['sex'].map({'Female': 0, 'Male': 1})\n",
    "new_tips['smoker'] = new_tips['smoker'].map({'No': 0, 'Yes': 1})\n",
    "new_tips['time'] = new_tips['time'].map({'Lunch': 0, 'Dinner': 1})\n",
    "new_tips['day'] = new_tips['day'].map({'Thur': 0, 'Fri': 1, 'Sat': 2, 'Sun': 3})\n",
    "\n",
    "train_and_validate, test = train_test_split(new_tips, random_state=117)\n",
    "train, validate = train_test_split(train_and_validate)\n",
    "x_train = train.drop(columns='tip')\n",
    "y_train = train['tip']\n",
    "x_validate = validate.drop(columns='tip')\n",
    "y_validate = validate['tip']\n",
    "x_test = test.drop(columns='tip')\n",
    "y_test = test['tip']"
   ]
  },
  {
   "cell_type": "code",
   "execution_count": 53,
   "id": "d5e66fc6-2d11-4f1e-a8c8-75aaf1169be8",
   "metadata": {
    "tags": []
   },
   "outputs": [
    {
     "data": {
      "text/plain": [
       "['total_bill', 'size', 'price_per_person']"
      ]
     },
     "execution_count": 53,
     "metadata": {},
     "output_type": "execute_result"
    }
   ],
   "source": [
    "# testing function on freshly acquired data\n",
    "select_kbest(x_train, y_train, 3)"
   ]
  },
  {
   "cell_type": "markdown",
   "id": "00a3cd8c-e87b-4871-8816-a90a540177ab",
   "metadata": {},
   "source": [
    "## Write a function named rfe that takes in the predictors, the target, and the number of features to select. It should return the top n features based on the RFE class. Test your function with the tips dataset. You should see the same results as when you did the process manually."
   ]
  },
  {
   "cell_type": "code",
   "execution_count": 67,
   "id": "5f53c8be-8017-4119-bfb5-27f4e7fe067f",
   "metadata": {
    "tags": []
   },
   "outputs": [],
   "source": [
    "def rfe(X, y, k):\n",
    "    '''\n",
    "    select_kbest will take three arguments: X(our split dataframe. Example: x_train), y(our target from the split data. Example: y_train), and k(the amount of features we want identified)\n",
    "    and will return the k best features using RFE.\n",
    "    '''\n",
    "    lr = LinearRegression()\n",
    "    rfe = RFE(lr, n_features_to_select=k)\n",
    "    rfe.fit(X, y)\n",
    "    feature_mask = rfe.support_\n",
    "    rfe_feature = X.iloc[:,feature_mask].columns.tolist()\n",
    "    return rfe_feature"
   ]
  },
  {
   "cell_type": "code",
   "execution_count": 55,
   "id": "437e3108-742d-4cd8-a111-242289cc83c1",
   "metadata": {
    "tags": []
   },
   "outputs": [],
   "source": [
    "new_tips2 = data('tips')\n",
    "new_tips2['price_per_person'] = round(new_tips2['total_bill']/new_tips2['size'],2)\n",
    "\n",
    "new_tips2['sex'] = new_tips2['sex'].map({'Female': 0, 'Male': 1})\n",
    "new_tips2['smoker'] = new_tips2['smoker'].map({'No': 0, 'Yes': 1})\n",
    "new_tips2['time'] = new_tips2['time'].map({'Lunch': 0, 'Dinner': 1})\n",
    "new_tips2['day'] = new_tips2['day'].map({'Thur': 0, 'Fri': 1, 'Sat': 2, 'Sun': 3})\n",
    "\n",
    "train_and_validate, test = train_test_split(new_tips2, random_state=117)\n",
    "train, validate = train_test_split(train_and_validate)\n",
    "x_train = train.drop(columns='tip')\n",
    "y_train = train['tip']\n",
    "x_validate = validate.drop(columns='tip')\n",
    "y_validate = validate['tip']\n",
    "x_test = test.drop(columns='tip')\n",
    "y_test = test['tip']"
   ]
  },
  {
   "cell_type": "code",
   "execution_count": 59,
   "id": "3f092fbe-7d8b-487b-be1a-b4ef42975661",
   "metadata": {
    "tags": []
   },
   "outputs": [
    {
     "data": {
      "text/plain": [
       "['smoker', 'size', 'price_per_person']"
      ]
     },
     "execution_count": 59,
     "metadata": {},
     "output_type": "execute_result"
    }
   ],
   "source": [
    "rfe(x_train, y_train, 3)"
   ]
  },
  {
   "cell_type": "markdown",
   "id": "555bb5f1-8b13-4836-8bcb-cdd43bba1e08",
   "metadata": {},
   "source": [
    "## Load the swiss dataset and use all the other features to predict Fertility. Find the top 3 features using both Select K Best and Recursive Feature Elimination (use the functions you just built to help you out)."
   ]
  },
  {
   "cell_type": "code",
   "execution_count": 61,
   "id": "3d3ed8c3-7a2c-4d89-a84b-b551570bd430",
   "metadata": {
    "tags": []
   },
   "outputs": [
    {
     "data": {
      "text/html": [
       "<div>\n",
       "<style scoped>\n",
       "    .dataframe tbody tr th:only-of-type {\n",
       "        vertical-align: middle;\n",
       "    }\n",
       "\n",
       "    .dataframe tbody tr th {\n",
       "        vertical-align: top;\n",
       "    }\n",
       "\n",
       "    .dataframe thead th {\n",
       "        text-align: right;\n",
       "    }\n",
       "</style>\n",
       "<table border=\"1\" class=\"dataframe\">\n",
       "  <thead>\n",
       "    <tr style=\"text-align: right;\">\n",
       "      <th></th>\n",
       "      <th>Fertility</th>\n",
       "      <th>Agriculture</th>\n",
       "      <th>Examination</th>\n",
       "      <th>Education</th>\n",
       "      <th>Catholic</th>\n",
       "      <th>Infant.Mortality</th>\n",
       "    </tr>\n",
       "  </thead>\n",
       "  <tbody>\n",
       "    <tr>\n",
       "      <th>Courtelary</th>\n",
       "      <td>80.2</td>\n",
       "      <td>17.0</td>\n",
       "      <td>15</td>\n",
       "      <td>12</td>\n",
       "      <td>9.96</td>\n",
       "      <td>22.2</td>\n",
       "    </tr>\n",
       "    <tr>\n",
       "      <th>Delemont</th>\n",
       "      <td>83.1</td>\n",
       "      <td>45.1</td>\n",
       "      <td>6</td>\n",
       "      <td>9</td>\n",
       "      <td>84.84</td>\n",
       "      <td>22.2</td>\n",
       "    </tr>\n",
       "    <tr>\n",
       "      <th>Franches-Mnt</th>\n",
       "      <td>92.5</td>\n",
       "      <td>39.7</td>\n",
       "      <td>5</td>\n",
       "      <td>5</td>\n",
       "      <td>93.40</td>\n",
       "      <td>20.2</td>\n",
       "    </tr>\n",
       "    <tr>\n",
       "      <th>Moutier</th>\n",
       "      <td>85.8</td>\n",
       "      <td>36.5</td>\n",
       "      <td>12</td>\n",
       "      <td>7</td>\n",
       "      <td>33.77</td>\n",
       "      <td>20.3</td>\n",
       "    </tr>\n",
       "    <tr>\n",
       "      <th>Neuveville</th>\n",
       "      <td>76.9</td>\n",
       "      <td>43.5</td>\n",
       "      <td>17</td>\n",
       "      <td>15</td>\n",
       "      <td>5.16</td>\n",
       "      <td>20.6</td>\n",
       "    </tr>\n",
       "  </tbody>\n",
       "</table>\n",
       "</div>"
      ],
      "text/plain": [
       "              Fertility  Agriculture  Examination  Education  Catholic  \\\n",
       "Courtelary         80.2         17.0           15         12      9.96   \n",
       "Delemont           83.1         45.1            6          9     84.84   \n",
       "Franches-Mnt       92.5         39.7            5          5     93.40   \n",
       "Moutier            85.8         36.5           12          7     33.77   \n",
       "Neuveville         76.9         43.5           17         15      5.16   \n",
       "\n",
       "              Infant.Mortality  \n",
       "Courtelary                22.2  \n",
       "Delemont                  22.2  \n",
       "Franches-Mnt              20.2  \n",
       "Moutier                   20.3  \n",
       "Neuveville                20.6  "
      ]
     },
     "execution_count": 61,
     "metadata": {},
     "output_type": "execute_result"
    }
   ],
   "source": [
    "swiss = data('swiss')\n",
    "swiss.head()"
   ]
  },
  {
   "cell_type": "code",
   "execution_count": 63,
   "id": "290ddd4b-ed83-4488-b194-e9660e006383",
   "metadata": {
    "tags": []
   },
   "outputs": [],
   "source": [
    "train_and_validate, test = train_test_split(swiss, random_state=117)\n",
    "train, validate = train_test_split(train_and_validate)\n",
    "x_train = train.drop(columns='Fertility')\n",
    "y_train = train['Fertility']\n",
    "x_validate = validate.drop(columns='Fertility')\n",
    "y_validate = validate['Fertility']\n",
    "x_test = test.drop(columns='Fertility')\n",
    "y_test = test['Fertility']"
   ]
  },
  {
   "cell_type": "code",
   "execution_count": 64,
   "id": "e4c76f7f-af08-41bc-8c22-527e7ebf1da3",
   "metadata": {
    "tags": []
   },
   "outputs": [
    {
     "data": {
      "text/plain": [
       "['Examination', 'Education', 'Infant.Mortality']"
      ]
     },
     "execution_count": 64,
     "metadata": {},
     "output_type": "execute_result"
    }
   ],
   "source": [
    "select_kbest(x_train, y_train, 3)"
   ]
  },
  {
   "cell_type": "code",
   "execution_count": 65,
   "id": "8e5f2034-a5e7-4a07-97fd-c69743ad9375",
   "metadata": {
    "tags": []
   },
   "outputs": [
    {
     "data": {
      "text/plain": [
       "['Examination', 'Education', 'Infant.Mortality']"
      ]
     },
     "execution_count": 65,
     "metadata": {},
     "output_type": "execute_result"
    }
   ],
   "source": [
    "rfe(x_train, y_train, 3)"
   ]
  },
  {
   "cell_type": "markdown",
   "id": "af139b0a-6132-4bd5-994a-78a7a1f3d274",
   "metadata": {},
   "source": [
    "# Scaled Data"
   ]
  },
  {
   "cell_type": "code",
   "execution_count": 70,
   "id": "8ade538e-e30f-41ca-b151-9b1986fe2e31",
   "metadata": {
    "tags": []
   },
   "outputs": [],
   "source": [
    "# Scaled data\n",
    "scaled_tips = data('tips')\n",
    "scaled_tips['price_per_person'] = round(scaled_tips['total_bill']/scaled_tips['size'],2)\n",
    "\n",
    "scaled_tips['sex'] = scaled_tips['sex'].map({'Female': 0, 'Male': 1})\n",
    "scaled_tips['smoker'] = scaled_tips['smoker'].map({'No': 0, 'Yes': 1})\n",
    "scaled_tips['time'] = scaled_tips['time'].map({'Lunch': 0, 'Dinner': 1})\n",
    "scaled_tips['day'] = scaled_tips['day'].map({'Thur': 0, 'Fri': 1, 'Sat': 2, 'Sun': 3})\n",
    "\n",
    "train_and_validate, test = train_test_split(scaled_tips, random_state=117)\n",
    "train, validate = train_test_split(train_and_validate)\n",
    "x_train = train.drop(columns='tip')\n",
    "y_train = train['tip']"
   ]
  },
  {
   "cell_type": "code",
   "execution_count": 71,
   "id": "a7e8f63d-ca28-4bd8-9ff3-ed372319f1d8",
   "metadata": {
    "tags": []
   },
   "outputs": [],
   "source": [
    "scaler = sklearn.preprocessing.MinMaxScaler()\n",
    "scaler.fit(x_train)\n",
    "x_train_scaled = scaler.transform(x_train)"
   ]
  },
  {
   "cell_type": "code",
   "execution_count": 74,
   "id": "2ce4969d-4b4f-4b4a-a65e-12c2b3d7a5b1",
   "metadata": {
    "tags": []
   },
   "outputs": [
    {
     "data": {
      "image/png": "[encoded data removed]",
      "text/plain": [
       "<Figure size 1300x600 with 2 Axes>"
      ]
     },
     "metadata": {},
     "output_type": "display_data"
    }
   ],
   "source": [
    "plt.figure(figsize=(13, 6))\n",
    "plt.subplot(121)\n",
    "plt.hist(x_train, bins=25, ec='black')\n",
    "plt.title('Original')\n",
    "plt.subplot(122)\n",
    "plt.hist(x_train_scaled, bins=25, ec='black')\n",
    "plt.title('Scaled')\n",
    "plt.show()"
   ]
  },
  {
   "cell_type": "code",
   "execution_count": 75,
   "id": "4a97e950-5ee3-4838-8ae9-af67f2c51360",
   "metadata": {
    "tags": []
   },
   "outputs": [],
   "source": [
    "scaler = sklearn.preprocessing.StandardScaler()\n",
    "scaler.fit(x_train)\n",
    "x_train_scaled = scaler.transform(x_train)"
   ]
  },
  {
   "cell_type": "code",
   "execution_count": 76,
   "id": "b3415f4c-31d5-40b6-836b-bd13f7a30715",
   "metadata": {
    "tags": []
   },
   "outputs": [
    {
     "data": {
      "image/png": "[encoded data removed]",
      "text/plain": [
       "<Figure size 1300x600 with 2 Axes>"
      ]
     },
     "metadata": {},
     "output_type": "display_data"
    }
   ],
   "source": [
    "plt.figure(figsize=(13, 6))\n",
    "plt.subplot(121)\n",
    "plt.hist(x_train, bins=25, ec='black')\n",
    "plt.title('Original')\n",
    "plt.subplot(122)\n",
    "plt.hist(x_train_scaled, bins=25, ec='black')\n",
    "plt.title('Scaled')\n",
    "plt.show()"
   ]
  },
  {
   "cell_type": "code",
   "execution_count": 77,
   "id": "4e26afb3-ca8f-4c06-874f-7800a2903fa4",
   "metadata": {
    "tags": []
   },
   "outputs": [],
   "source": [
    "scaler = sklearn.preprocessing.RobustScaler()\n",
    "scaler.fit(x_train)\n",
    "x_train_scaled = scaler.transform(x_train)"
   ]
  },
  {
   "cell_type": "code",
   "execution_count": 78,
   "id": "52a8696c-5384-4bf6-b28b-24c2757265e0",
   "metadata": {
    "tags": []
   },
   "outputs": [
    {
     "data": {
      "image/png": "[encoded data removed]",
      "text/plain": [
       "<Figure size 1300x600 with 2 Axes>"
      ]
     },
     "metadata": {},
     "output_type": "display_data"
    }
   ],
   "source": [
    "plt.figure(figsize=(13, 6))\n",
    "plt.subplot(121)\n",
    "plt.hist(x_train, bins=25, ec='black')\n",
    "plt.title('Original')\n",
    "plt.subplot(122)\n",
    "plt.hist(x_train_scaled, bins=25, ec='black')\n",
    "plt.title('Scaled')\n",
    "plt.show()"
   ]
  },
  {
   "cell_type": "markdown",
   "id": "9e21cd03-3e7e-4d0e-a36b-cc7c5129ac50",
   "metadata": {},
   "source": [
    "### We'll go with the robust scaler."
   ]
  },
  {
   "cell_type": "code",
   "execution_count": 79,
   "id": "0acc69e0-6c27-4112-a1c9-d70dee1af9d4",
   "metadata": {
    "tags": []
   },
   "outputs": [
    {
     "ename": "AttributeError",
     "evalue": "'numpy.ndarray' object has no attribute 'iloc'",
     "output_type": "error",
     "traceback": [
      "\u001b[0;31m---------------------------------------------------------------------------\u001b[0m",
      "\u001b[0;31mAttributeError\u001b[0m                            Traceback (most recent call last)",
      "Cell \u001b[0;32mIn[79], line 1\u001b[0m\n\u001b[0;32m----> 1\u001b[0m select_kbest(x_train_scaled, y_train, \u001b[38;5;241m3\u001b[39m)\n",
      "Cell \u001b[0;32mIn[66], line 9\u001b[0m, in \u001b[0;36mselect_kbest\u001b[0;34m(X, y, k)\u001b[0m\n\u001b[1;32m      7\u001b[0m f_selector\u001b[38;5;241m.\u001b[39mfit(X, y)\n\u001b[1;32m      8\u001b[0m feature_mask \u001b[38;5;241m=\u001b[39m f_selector\u001b[38;5;241m.\u001b[39mget_support()\n\u001b[0;32m----> 9\u001b[0m f_feature \u001b[38;5;241m=\u001b[39m X\u001b[38;5;241m.\u001b[39miloc[:,feature_mask]\u001b[38;5;241m.\u001b[39mcolumns\u001b[38;5;241m.\u001b[39mtolist()\n\u001b[1;32m     10\u001b[0m \u001b[38;5;28;01mreturn\u001b[39;00m f_feature\n",
      "\u001b[0;31mAttributeError\u001b[0m: 'numpy.ndarray' object has no attribute 'iloc'"
     ]
    }
   ],
   "source": [
    "select_kbest(x_train_scaled, y_train, 3)"
   ]
  },
  {
   "cell_type": "code",
   "execution_count": 94,
   "id": "cb707c8a-c2e2-4c62-9aed-18fa0a0056f3",
   "metadata": {
    "tags": []
   },
   "outputs": [
    {
     "ename": "NameError",
     "evalue": "name 'k' is not defined",
     "output_type": "error",
     "traceback": [
      "\u001b[0;31m---------------------------------------------------------------------------\u001b[0m",
      "\u001b[0;31mNameError\u001b[0m                                 Traceback (most recent call last)",
      "Cell \u001b[0;32mIn[94], line 1\u001b[0m\n\u001b[0;32m----> 1\u001b[0m f_selector \u001b[38;5;241m=\u001b[39m SelectKBest(f_regression, k\u001b[38;5;241m=\u001b[39mk)\n\u001b[1;32m      2\u001b[0m f_selector\u001b[38;5;241m.\u001b[39mfit(X, y)\n\u001b[1;32m      3\u001b[0m feature_mask \u001b[38;5;241m=\u001b[39m f_selector\u001b[38;5;241m.\u001b[39mget_support()\n",
      "\u001b[0;31mNameError\u001b[0m: name 'k' is not defined"
     ]
    }
   ],
   "source": [
    "f_selector = SelectKBest(f_regression, k=k)\n",
    "f_selector.fit(X, y)\n",
    "feature_mask = f_selector.get_support()\n",
    "f_feature = X.columns[feature_mask].tolist()\n",
    "f_feature"
   ]
  },
  {
   "cell_type": "code",
   "execution_count": 93,
   "id": "4c854b24-dcf1-4c61-86bb-e24d6a1b04fb",
   "metadata": {
    "tags": []
   },
   "outputs": [
    {
     "data": {
      "text/plain": [
       "['total_bill', 'size']"
      ]
     },
     "execution_count": 93,
     "metadata": {},
     "output_type": "execute_result"
    }
   ],
   "source": [
    "f_selector = SelectKBest(f_regression, k=2)\n",
    "f_selector.fit(x_train_scaled, y_train)\n",
    "feature_mask = f_selector.get_support()\n",
    "f_columns = x_train.columns[feature_mask].tolist()\n",
    "f_columns"
   ]
  },
  {
   "cell_type": "code",
   "execution_count": 80,
   "id": "fc165cc9-c09d-48cf-8c8b-975e55bd5f38",
   "metadata": {
    "tags": []
   },
   "outputs": [
    {
     "ename": "AttributeError",
     "evalue": "'numpy.ndarray' object has no attribute 'iloc'",
     "output_type": "error",
     "traceback": [
      "\u001b[0;31m---------------------------------------------------------------------------\u001b[0m",
      "\u001b[0;31mAttributeError\u001b[0m                            Traceback (most recent call last)",
      "Cell \u001b[0;32mIn[80], line 1\u001b[0m\n\u001b[0;32m----> 1\u001b[0m rfe(x_train_scaled, y_train, \u001b[38;5;241m3\u001b[39m)\n",
      "Cell \u001b[0;32mIn[67], line 10\u001b[0m, in \u001b[0;36mrfe\u001b[0;34m(X, y, k)\u001b[0m\n\u001b[1;32m      8\u001b[0m rfe\u001b[38;5;241m.\u001b[39mfit(X, y)\n\u001b[1;32m      9\u001b[0m feature_mask \u001b[38;5;241m=\u001b[39m rfe\u001b[38;5;241m.\u001b[39msupport_\n\u001b[0;32m---> 10\u001b[0m rfe_feature \u001b[38;5;241m=\u001b[39m X\u001b[38;5;241m.\u001b[39miloc[:,feature_mask]\u001b[38;5;241m.\u001b[39mcolumns\u001b[38;5;241m.\u001b[39mtolist()\n\u001b[1;32m     11\u001b[0m \u001b[38;5;28;01mreturn\u001b[39;00m rfe_feature\n",
      "\u001b[0;31mAttributeError\u001b[0m: 'numpy.ndarray' object has no attribute 'iloc'"
     ]
    }
   ],
   "source": [
    "rfe(x_train_scaled, y_train, 3)"
   ]
  },
  {
   "cell_type": "code",
   "execution_count": null,
   "id": "260c1f17-629f-4d63-9c66-1559581b0ab0",
   "metadata": {},
   "outputs": [],
   "source": [
    "f_selector = SelectKBest(f_regression, k=2)\n",
    "f_selector.fit(x_train_scaled, y_train)\n",
    "feature_mask = f_selector.get_support()\n",
    "rfe_columns = x_train.columns[rfe.support_].tolist()\n",
    "rfe_columns"
   ]
  },
  {
   "cell_type": "code",
   "execution_count": null,
   "id": "0ca3b702-ca68-434a-b739-3366e3a53e9b",
   "metadata": {},
   "outputs": [],
   "source": []
  }
 ],
 "metadata": {
  "kernelspec": {
   "display_name": "Python 3 (ipykernel)",
   "language": "python",
   "name": "python3"
  },
  "language_info": {
   "codemirror_mode": {
    "name": "ipython",
    "version": 3
   },
   "file_extension": ".py",
   "mimetype": "text/x-python",
   "name": "python",
   "nbconvert_exporter": "python",
   "pygments_lexer": "ipython3",
   "version": "3.11.3"
  },
  "toc-autonumbering": false
 },
 "nbformat": 4,
 "nbformat_minor": 5
}
